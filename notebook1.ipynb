{
 "cells": [
  {
   "cell_type": "markdown",
   "metadata": {},
   "source": [
    "creating hello world! python program"
   ]
  },
  {
   "cell_type": "code",
   "execution_count": 24,
   "metadata": {},
   "outputs": [
    {
     "name": "stdout",
     "output_type": "stream",
     "text": [
      "Hello World\n"
     ]
    }
   ],
   "source": [
    "print(\"Hello World\")"
   ]
  },
  {
   "cell_type": "code",
   "execution_count": 25,
   "metadata": {},
   "outputs": [
    {
     "name": "stdout",
     "output_type": "stream",
     "text": [
      "hope you enjoy it\n"
     ]
    }
   ],
   "source": [
    "print(\"hope you enjoy it\")"
   ]
  },
  {
   "cell_type": "code",
   "execution_count": 26,
   "metadata": {},
   "outputs": [
    {
     "name": "stdout",
     "output_type": "stream",
     "text": [
      "10 10 10\n",
      "140734202905800\n",
      "140734202905800\n",
      "140734202905800\n",
      "10 20 10\n"
     ]
    }
   ],
   "source": [
    "#Variables Assignment And id Check\n",
    "\n",
    "x=10\n",
    "y=x\n",
    "z=10\n",
    "\n",
    "\n",
    "print(x,y,z)\n",
    "print(id(x))#unique identifier for x\n",
    "print(id(y))#same as x, because y reference x\n",
    "print(id(z))#same as x,because z is a copy with the same value\n",
    "y=20\n",
    "print(x,y,z)\n"
   ]
  },
  {
   "cell_type": "code",
   "execution_count": 27,
   "metadata": {},
   "outputs": [
    {
     "name": "stdout",
     "output_type": "stream",
     "text": [
      "[10, 20, [30, 40]] [10, 20, [30, 40]]\n",
      "2708198406080\n",
      "2708208317120\n",
      "[10, 20, [30, 40]] [10, 100, [50, 40]]\n"
     ]
    }
   ],
   "source": [
    "\n",
    "\n",
    "\n",
    "import copy\n",
    "a=[10,20,[30,40]]\n",
    "b=copy.deepcopy(a)\n",
    "print(a,b)\n",
    "print(id(a))\n",
    "print(id(b))\n",
    "b[1]=100\n",
    "b[2][0]=50\n",
    "print(a,b)\n",
    "\n",
    "\n"
   ]
  },
  {
   "cell_type": "code",
   "execution_count": 28,
   "metadata": {},
   "outputs": [
    {
     "name": "stdout",
     "output_type": "stream",
     "text": [
      "[10, 20, [30, 40]] [10, 20, [30, 40]]\n",
      "2708208457344\n",
      "2708208457344\n",
      "[10, 100, [50, 40]] [10, 100, [50, 40]]\n"
     ]
    }
   ],
   "source": [
    "# mutable objects\n",
    "a=[10,20,[30,40]]\n",
    "b=a\n",
    "print(a,b)\n",
    "print(id(a))\n",
    "print(id(b))\n",
    "b[1]=100\n",
    "b[2][0]=50\n",
    "print(a,b)"
   ]
  },
  {
   "cell_type": "code",
   "execution_count": 29,
   "metadata": {},
   "outputs": [
    {
     "name": "stdout",
     "output_type": "stream",
     "text": [
      "[10, 20, [30, 40]] [10, 20, [30, 40]]\n",
      "2708208454208\n",
      "2708208388416\n",
      "[10, 20, [50, 40]] [10, 100, [50, 40]]\n"
     ]
    }
   ],
   "source": [
    "import copy\n",
    "a=[10,20,[30,40]]\n",
    "b=copy.copy(a)\n",
    "print(a,b)\n",
    "print(id(a))\n",
    "print(id(b))\n",
    "b[1]=100\n",
    "b[2][0]=50\n",
    "print(a,b)"
   ]
  }
 ],
 "metadata": {
  "kernelspec": {
   "display_name": "Python 3",
   "language": "python",
   "name": "python3"
  },
  "language_info": {
   "codemirror_mode": {
    "name": "ipython",
    "version": 3
   },
   "file_extension": ".py",
   "mimetype": "text/x-python",
   "name": "python",
   "nbconvert_exporter": "python",
   "pygments_lexer": "ipython3",
   "version": "3.13.1"
  }
 },
 "nbformat": 4,
 "nbformat_minor": 2
}
